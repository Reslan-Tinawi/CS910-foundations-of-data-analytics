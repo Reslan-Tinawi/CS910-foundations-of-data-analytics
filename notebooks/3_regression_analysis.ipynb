{
 "cells": [
  {
   "cell_type": "markdown",
   "id": "f3c3bac2-b8b2-445f-ae21-7bfbc025a625",
   "metadata": {},
   "source": [
    "# Import packages\n"
   ]
  },
  {
   "cell_type": "code",
   "execution_count": null,
   "id": "dc397289-55be-4f25-bdc2-189f7eb06e06",
   "metadata": {
    "execution": {
     "iopub.execute_input": "2024-01-11T11:49:22.506952Z",
     "iopub.status.busy": "2024-01-11T11:49:22.506952Z",
     "iopub.status.idle": "2024-01-11T11:49:25.399413Z",
     "shell.execute_reply": "2024-01-11T11:49:25.398396Z",
     "shell.execute_reply.started": "2024-01-11T11:49:22.506952Z"
    }
   },
   "outputs": [],
   "source": [
    "import matplotlib.pyplot as plt\n",
    "import numpy as np\n",
    "import pandas as pd\n",
    "import seaborn as sns\n",
    "from sklearn.linear_model import LinearRegression\n",
    "from sklearn.metrics import (\n",
    "    explained_variance_score,\n",
    "    mean_absolute_error,\n",
    "    mean_squared_error,\n",
    "    r2_score,\n",
    ")\n",
    "from sktime.transformations.series.summarize import WindowSummarizer\n",
    "from sktime.utils.plotting import plot_series\n",
    "\n",
    "pd.options.mode.chained_assignment = None\n",
    "pd.set_option(\"display.max_columns\", None)"
   ]
  },
  {
   "cell_type": "markdown",
   "id": "d0861e82-9dc1-4f37-87b2-e29ead309eae",
   "metadata": {},
   "source": [
    "# Load data\n"
   ]
  },
  {
   "cell_type": "code",
   "execution_count": null,
   "id": "5f5400f6-2a69-424e-9468-ecf8f8e450b7",
   "metadata": {
    "execution": {
     "iopub.execute_input": "2024-01-11T11:49:25.400405Z",
     "iopub.status.busy": "2024-01-11T11:49:25.400405Z",
     "iopub.status.idle": "2024-01-11T11:49:25.476258Z",
     "shell.execute_reply": "2024-01-11T11:49:25.476258Z",
     "shell.execute_reply.started": "2024-01-11T11:49:25.400405Z"
    }
   },
   "outputs": [],
   "source": [
    "df = pd.read_parquet(\"../data/aggregated_data.parquet\")"
   ]
  },
  {
   "cell_type": "code",
   "execution_count": null,
   "id": "c7d02496-4583-479b-8373-2e7015ead632",
   "metadata": {
    "execution": {
     "iopub.execute_input": "2024-01-11T11:49:25.478265Z",
     "iopub.status.busy": "2024-01-11T11:49:25.477270Z",
     "iopub.status.idle": "2024-01-11T11:49:25.509701Z",
     "shell.execute_reply": "2024-01-11T11:49:25.508681Z",
     "shell.execute_reply.started": "2024-01-11T11:49:25.478265Z"
    }
   },
   "outputs": [],
   "source": [
    "df.head()"
   ]
  },
  {
   "cell_type": "markdown",
   "id": "26d31562-61da-46cb-9d6e-58584991c172",
   "metadata": {},
   "source": [
    "Keep only columns with high correlation with the drought column\n"
   ]
  },
  {
   "cell_type": "code",
   "execution_count": null,
   "id": "e9473c8b-2dbc-485c-9934-67b7938b50cc",
   "metadata": {
    "execution": {
     "iopub.execute_input": "2024-01-11T11:49:25.511699Z",
     "iopub.status.busy": "2024-01-11T11:49:25.511699Z",
     "iopub.status.idle": "2024-01-11T11:49:25.517088Z",
     "shell.execute_reply": "2024-01-11T11:49:25.516070Z",
     "shell.execute_reply.started": "2024-01-11T11:49:25.511699Z"
    }
   },
   "outputs": [],
   "source": [
    "columns_to_keep = [\n",
    "    \"PRECTOT\",\n",
    "    \"PS\",\n",
    "    \"T2M_MAX\",\n",
    "    \"T2M_RANGE\",\n",
    "    \"WS10M_RANGE\",\n",
    "]"
   ]
  },
  {
   "cell_type": "code",
   "execution_count": null,
   "id": "3539cafb-8b3d-444b-b5ba-bfc6697e9c27",
   "metadata": {
    "execution": {
     "iopub.execute_input": "2024-01-11T11:49:25.519085Z",
     "iopub.status.busy": "2024-01-11T11:49:25.518085Z",
     "iopub.status.idle": "2024-01-11T11:49:25.529604Z",
     "shell.execute_reply": "2024-01-11T11:49:25.529084Z",
     "shell.execute_reply.started": "2024-01-11T11:49:25.519085Z"
    }
   },
   "outputs": [],
   "source": [
    "X = df[columns_to_keep]\n",
    "y = df[[\"drought\"]]"
   ]
  },
  {
   "cell_type": "code",
   "execution_count": null,
   "id": "665fad63-f491-4f54-8db7-d180428e13bd",
   "metadata": {
    "execution": {
     "iopub.execute_input": "2024-01-11T11:49:26.201557Z",
     "iopub.status.busy": "2024-01-11T11:49:26.200557Z",
     "iopub.status.idle": "2024-01-11T11:49:26.260419Z",
     "shell.execute_reply": "2024-01-11T11:49:26.259402Z",
     "shell.execute_reply.started": "2024-01-11T11:49:26.201557Z"
    }
   },
   "outputs": [],
   "source": [
    "y_train, y_test, X_train, X_test = temporal_train_test_split(y, X, test_size=0.3)"
   ]
  },
  {
   "cell_type": "code",
   "execution_count": null,
   "id": "faff2eb2-a895-4d42-a03a-6020307a0207",
   "metadata": {
    "execution": {
     "iopub.execute_input": "2024-01-11T11:49:27.023818Z",
     "iopub.status.busy": "2024-01-11T11:49:27.022818Z",
     "iopub.status.idle": "2024-01-11T11:49:27.038395Z",
     "shell.execute_reply": "2024-01-11T11:49:27.037372Z",
     "shell.execute_reply.started": "2024-01-11T11:49:27.023818Z"
    }
   },
   "outputs": [],
   "source": [
    "X_train.head()"
   ]
  },
  {
   "cell_type": "code",
   "execution_count": null,
   "id": "e3828c09-9cc9-44aa-8731-083af05a4546",
   "metadata": {
    "execution": {
     "iopub.execute_input": "2024-01-11T11:49:27.656925Z",
     "iopub.status.busy": "2024-01-11T11:49:27.656925Z",
     "iopub.status.idle": "2024-01-11T11:49:27.672550Z",
     "shell.execute_reply": "2024-01-11T11:49:27.671532Z",
     "shell.execute_reply.started": "2024-01-11T11:49:27.656925Z"
    }
   },
   "outputs": [],
   "source": [
    "X_test.head()"
   ]
  },
  {
   "cell_type": "code",
   "execution_count": null,
   "id": "6249fa0a-885d-4b65-bc15-34e1128928bd",
   "metadata": {
    "execution": {
     "iopub.execute_input": "2024-01-11T11:49:28.333169Z",
     "iopub.status.busy": "2024-01-11T11:49:28.332150Z",
     "iopub.status.idle": "2024-01-11T11:49:28.338812Z",
     "shell.execute_reply": "2024-01-11T11:49:28.337793Z",
     "shell.execute_reply.started": "2024-01-11T11:49:28.333169Z"
    }
   },
   "outputs": [],
   "source": [
    "print(f\"Number of records in X_train: {X_train.shape}\")\n",
    "print(f\"Number of records in X_test: {X_test.shape}\")"
   ]
  },
  {
   "cell_type": "code",
   "execution_count": null,
   "id": "016568bc-0ae0-4630-815c-e367b15c9229",
   "metadata": {
    "execution": {
     "iopub.execute_input": "2024-01-11T11:49:29.372367Z",
     "iopub.status.busy": "2024-01-11T11:49:29.372367Z",
     "iopub.status.idle": "2024-01-11T11:49:29.379643Z",
     "shell.execute_reply": "2024-01-11T11:49:29.378630Z",
     "shell.execute_reply.started": "2024-01-11T11:49:29.372367Z"
    }
   },
   "outputs": [],
   "source": [
    "print(\n",
    "    f\"Range of dates in X_train: {X_train.index.get_level_values('date').min(), X_train.index.get_level_values('date').max()}\"\n",
    ")\n",
    "\n",
    "print(\n",
    "    f\"Range of dates in X_test: {X_test.index.get_level_values('date').min(), X_test.index.get_level_values('date').max()}\"\n",
    ")"
   ]
  },
  {
   "cell_type": "markdown",
   "id": "b994feeb-3055-4cc8-b2f4-abc13964cf2d",
   "metadata": {},
   "source": [
    "# Feature engineering\n"
   ]
  },
  {
   "cell_type": "code",
   "execution_count": null,
   "id": "e9c15db3-59f5-4345-8c7d-60c5e832cea5",
   "metadata": {
    "execution": {
     "iopub.execute_input": "2024-01-11T11:49:30.829827Z",
     "iopub.status.busy": "2024-01-11T11:49:30.828922Z",
     "iopub.status.idle": "2024-01-11T11:49:30.837065Z",
     "shell.execute_reply": "2024-01-11T11:49:30.837065Z",
     "shell.execute_reply.started": "2024-01-11T11:49:30.829827Z"
    }
   },
   "outputs": [],
   "source": [
    "Z_train = pd.concat([X_train, y_train], axis=1)\n",
    "Z_test = pd.concat([X_test, y_test], axis=1)"
   ]
  },
  {
   "cell_type": "code",
   "execution_count": null,
   "id": "a672b743-591c-449b-b2d3-d353bfd54bd5",
   "metadata": {
    "execution": {
     "iopub.execute_input": "2024-01-11T11:49:31.577916Z",
     "iopub.status.busy": "2024-01-11T11:49:31.576921Z",
     "iopub.status.idle": "2024-01-11T11:49:31.592017Z",
     "shell.execute_reply": "2024-01-11T11:49:31.590999Z",
     "shell.execute_reply.started": "2024-01-11T11:49:31.577916Z"
    }
   },
   "outputs": [],
   "source": [
    "Z_train.head()"
   ]
  },
  {
   "cell_type": "code",
   "execution_count": null,
   "id": "94ad66b7-5e87-4b01-82d2-a0df0011378c",
   "metadata": {
    "execution": {
     "iopub.execute_input": "2024-01-11T11:49:32.434814Z",
     "iopub.status.busy": "2024-01-11T11:49:32.434814Z",
     "iopub.status.idle": "2024-01-11T11:49:32.439333Z",
     "shell.execute_reply": "2024-01-11T11:49:32.438319Z",
     "shell.execute_reply.started": "2024-01-11T11:49:32.434814Z"
    }
   },
   "outputs": [],
   "source": [
    "kwargs = {\n",
    "    \"lag_feature\": {\n",
    "        \"lag\": [1, 2, 3, 4],\n",
    "    }\n",
    "}\n",
    "\n",
    "target_cols = [\"PRECTOT\", \"PS\", \"T2M_MAX\", \"T2M_RANGE\", \"WS10M_RANGE\", \"drought\"]\n",
    "\n",
    "transformer = WindowSummarizer(**kwargs, target_cols=target_cols)"
   ]
  },
  {
   "cell_type": "code",
   "execution_count": null,
   "id": "9cc633b9-07f3-4f78-b014-a715c24e1bbb",
   "metadata": {
    "execution": {
     "iopub.execute_input": "2024-01-11T11:49:33.480796Z",
     "iopub.status.busy": "2024-01-11T11:49:33.479796Z",
     "iopub.status.idle": "2024-01-11T11:49:33.491961Z",
     "shell.execute_reply": "2024-01-11T11:49:33.490944Z",
     "shell.execute_reply.started": "2024-01-11T11:49:33.480796Z"
    }
   },
   "outputs": [],
   "source": [
    "Z_train.head()"
   ]
  },
  {
   "cell_type": "code",
   "execution_count": null,
   "id": "3545b27b-7f4a-4860-94d1-71dd0690c47e",
   "metadata": {
    "execution": {
     "iopub.execute_input": "2024-01-11T11:49:34.489147Z",
     "iopub.status.busy": "2024-01-11T11:49:34.489147Z",
     "iopub.status.idle": "2024-01-11T11:49:50.271644Z",
     "shell.execute_reply": "2024-01-11T11:49:50.271644Z",
     "shell.execute_reply.started": "2024-01-11T11:49:34.489147Z"
    }
   },
   "outputs": [],
   "source": [
    "Z_train_transformed = transformer.fit_transform(Z_train)"
   ]
  },
  {
   "cell_type": "code",
   "execution_count": null,
   "id": "bc9876f1-2288-4cea-b656-3ace1e8b0a4b",
   "metadata": {
    "execution": {
     "iopub.execute_input": "2024-01-11T11:49:50.272660Z",
     "iopub.status.busy": "2024-01-11T11:49:50.272660Z",
     "iopub.status.idle": "2024-01-11T11:49:50.450835Z",
     "shell.execute_reply": "2024-01-11T11:49:50.449814Z",
     "shell.execute_reply.started": "2024-01-11T11:49:50.272660Z"
    }
   },
   "outputs": [],
   "source": [
    "Z_test_transformed = transformer.fit_transform(Z_test)"
   ]
  },
  {
   "cell_type": "code",
   "execution_count": null,
   "id": "02458745-61ee-4bdd-808e-3bb7ebc12500",
   "metadata": {
    "execution": {
     "iopub.execute_input": "2024-01-11T11:49:50.451826Z",
     "iopub.status.busy": "2024-01-11T11:49:50.451826Z",
     "iopub.status.idle": "2024-01-11T11:49:50.488252Z",
     "shell.execute_reply": "2024-01-11T11:49:50.487185Z",
     "shell.execute_reply.started": "2024-01-11T11:49:50.451826Z"
    }
   },
   "outputs": [],
   "source": [
    "Z_train_transformed.head()"
   ]
  },
  {
   "cell_type": "code",
   "execution_count": null,
   "id": "6b20ca50-653d-4ae9-a011-14350f28c25d",
   "metadata": {
    "execution": {
     "iopub.execute_input": "2024-01-11T11:49:50.492206Z",
     "iopub.status.busy": "2024-01-11T11:49:50.491214Z",
     "iopub.status.idle": "2024-01-11T11:49:50.513152Z",
     "shell.execute_reply": "2024-01-11T11:49:50.512127Z",
     "shell.execute_reply.started": "2024-01-11T11:49:50.492206Z"
    }
   },
   "outputs": [],
   "source": [
    "Z_test.head()"
   ]
  },
  {
   "cell_type": "code",
   "execution_count": null,
   "id": "e90ff48d-8652-431d-b27a-2a252674e785",
   "metadata": {
    "execution": {
     "iopub.execute_input": "2024-01-11T11:49:52.861590Z",
     "iopub.status.busy": "2024-01-11T11:49:52.861590Z",
     "iopub.status.idle": "2024-01-11T11:49:52.883078Z",
     "shell.execute_reply": "2024-01-11T11:49:52.882065Z",
     "shell.execute_reply.started": "2024-01-11T11:49:52.861590Z"
    }
   },
   "outputs": [],
   "source": [
    "Z_test_transformed.head()"
   ]
  },
  {
   "cell_type": "code",
   "execution_count": null,
   "id": "4c2f643d-042f-4eef-91b2-d5037e3cfa44",
   "metadata": {
    "execution": {
     "iopub.execute_input": "2024-01-11T11:49:53.239065Z",
     "iopub.status.busy": "2024-01-11T11:49:53.238063Z",
     "iopub.status.idle": "2024-01-11T11:49:53.245550Z",
     "shell.execute_reply": "2024-01-11T11:49:53.244539Z",
     "shell.execute_reply.started": "2024-01-11T11:49:53.239065Z"
    }
   },
   "outputs": [],
   "source": [
    "print(Z_train_transformed.columns)"
   ]
  },
  {
   "cell_type": "markdown",
   "id": "6ad306ff-3375-40d4-88e4-8d81d5cb5602",
   "metadata": {},
   "source": [
    "# Utility functions\n"
   ]
  },
  {
   "cell_type": "code",
   "execution_count": null,
   "id": "1c906fac-fd9e-4444-960d-e4baca665b96",
   "metadata": {
    "execution": {
     "iopub.execute_input": "2024-01-11T11:49:54.958380Z",
     "iopub.status.busy": "2024-01-11T11:49:54.958380Z",
     "iopub.status.idle": "2024-01-11T11:49:54.966402Z",
     "shell.execute_reply": "2024-01-11T11:49:54.964871Z",
     "shell.execute_reply.started": "2024-01-11T11:49:54.958380Z"
    }
   },
   "outputs": [],
   "source": [
    "def get_data_by_state(state_name: str):\n",
    "    \"\"\"\n",
    "    Extracts and returns training and testing data for a specific state.\n",
    "    Parameters:\n",
    "    state_name (str): The name of the state for which the data is to be extracted.\n",
    "    Returns:\n",
    "    tuple: A tuple containing four DataFrames:\n",
    "        - state_X_train: Training features for the specified state.\n",
    "        - state_X_test: Testing features for the specified state.\n",
    "        - state_y_train: Training labels for the specified state.\n",
    "        - state_y_test: Testing labels for the specified state.\n",
    "    \"\"\"\n",
    "    state_X_train = (\n",
    "        Z_train_transformed[\n",
    "            Z_train_transformed.index.get_level_values(\"state_name\") == state_name\n",
    "        ]\n",
    "        .reset_index()\n",
    "        .drop(columns=\"state_name\")\n",
    "    )\n",
    "\n",
    "    state_X_test = (\n",
    "        Z_test_transformed[\n",
    "            Z_test_transformed.index.get_level_values(\"state_name\") == state_name\n",
    "        ]\n",
    "        .reset_index()\n",
    "        .drop(columns=\"state_name\")\n",
    "    )\n",
    "\n",
    "    state_y_train = (\n",
    "        y_train[y_train.index.get_level_values(\"state_name\") == state_name]\n",
    "        .reset_index()\n",
    "        .drop(columns=\"state_name\")\n",
    "    )\n",
    "\n",
    "    state_y_test = (\n",
    "        y_test[y_test.index.get_level_values(\"state_name\") == state_name]\n",
    "        .reset_index()\n",
    "        .drop(columns=\"state_name\")\n",
    "    )\n",
    "\n",
    "    return (state_X_train, state_X_test, state_y_train, state_y_test)"
   ]
  },
  {
   "cell_type": "code",
   "execution_count": null,
   "id": "c8b8a4cf-8a86-46e9-b3a6-d0087c1d5b1f",
   "metadata": {
    "execution": {
     "iopub.execute_input": "2024-01-11T11:53:35.698497Z",
     "iopub.status.busy": "2024-01-11T11:53:35.698497Z",
     "iopub.status.idle": "2024-01-11T11:53:35.705154Z",
     "shell.execute_reply": "2024-01-11T11:53:35.704139Z",
     "shell.execute_reply.started": "2024-01-11T11:53:35.698497Z"
    }
   },
   "outputs": [],
   "source": [
    "def plot_train_test_prediction_series(\n",
    "    y_train: pd.DataFrame, y_test: pd.DataFrame, y_pred: np.array, state_name: str\n",
    "):\n",
    "    \"\"\"\n",
    "    Plots the training, testing, and predicted time series data for drought values and saves the plot as a PNG file.\n",
    "    Parameters:\n",
    "    y_train (pd.DataFrame): The training data series.\n",
    "    y_test (pd.DataFrame): The testing data series.\n",
    "    y_pred (np.array): The predicted data series.\n",
    "    state_name (str): The name of the state for labeling the plot and saving the file.\n",
    "    Returns:\n",
    "    None\n",
    "    \"\"\"\n",
    "    fig, ax = plot_series(\n",
    "        y_train,\n",
    "        y_test,\n",
    "        pd.DataFrame(data=y_pred, index=y_test.index, columns=[\"drought\"]),\n",
    "        labels=[\n",
    "            f\"{state_name} y_train\",\n",
    "            f\"{state_name} y_test\",\n",
    "            f\"{state_name} y_pred\",\n",
    "        ],\n",
    "    )\n",
    "\n",
    "    # Format the x-axis to display only year and month\n",
    "    # date_format = DateFormatter(\"%Y-%m\")\n",
    "    # ax.xaxis.set_major_formatter(date_format)\n",
    "    ax.tick_params(axis=\"x\", rotation=10)  # Adjust the rotation angle as needed\n",
    "    ax.set_xlabel(\"Time\")\n",
    "    ax.set_ylabel(\"Drought value\")\n",
    "\n",
    "    plt.savefig(f\"../figures/time-series-plots/{state_name}_time_series_plot.png\")\n",
    "\n",
    "    # plt.show()"
   ]
  },
  {
   "cell_type": "markdown",
   "id": "3d8f4fa9-ae76-427b-b408-eae1a63f7da9",
   "metadata": {},
   "source": [
    "# Modelling\n"
   ]
  },
  {
   "cell_type": "code",
   "execution_count": null,
   "id": "eae7b13f-118f-4369-a489-b24e9495963f",
   "metadata": {
    "execution": {
     "iopub.execute_input": "2024-01-11T11:53:36.479676Z",
     "iopub.status.busy": "2024-01-11T11:53:36.478685Z",
     "iopub.status.idle": "2024-01-11T11:53:36.483353Z",
     "shell.execute_reply": "2024-01-11T11:53:36.482333Z",
     "shell.execute_reply.started": "2024-01-11T11:53:36.479676Z"
    }
   },
   "outputs": [],
   "source": [
    "states_of_interest = [\n",
    "    \"Nevada\",  # very high\n",
    "    \"Utah\",  # very high\n",
    "    \"Nebraska\",  # high\n",
    "    \"Texas\",  # high\n",
    "    \"Mississippi\",  # medium\n",
    "    \"Missouri\",  # medium\n",
    "    \"New York\",  # low\n",
    "    \"Ohio\",  # low\n",
    "]"
   ]
  },
  {
   "cell_type": "code",
   "execution_count": null,
   "id": "608cccd1-b751-4b6a-bc5e-2d429282bffc",
   "metadata": {
    "execution": {
     "iopub.execute_input": "2024-01-11T11:53:36.816110Z",
     "iopub.status.busy": "2024-01-11T11:53:36.816110Z",
     "iopub.status.idle": "2024-01-11T11:53:36.942961Z",
     "shell.execute_reply": "2024-01-11T11:53:36.942961Z",
     "shell.execute_reply.started": "2024-01-11T11:53:36.816110Z"
    }
   },
   "outputs": [],
   "source": [
    "states_models = {}\n",
    "\n",
    "for state in states_of_interest:\n",
    "    state_X_train, state_X_test, state_y_train, state_y_test = get_data_by_state(state)\n",
    "\n",
    "    state_model = LinearRegression()\n",
    "\n",
    "    state_model.fit(\n",
    "        state_X_train.drop(columns=[\"date\"]).fillna(0.0),\n",
    "        state_y_train.drop(columns=[\"date\"]),\n",
    "    )\n",
    "\n",
    "    state_y_pred = state_model.predict(state_X_test.drop(columns=[\"date\"]).fillna(0.0))\n",
    "\n",
    "    states_models[state] = {\n",
    "        \"X_train\": state_X_train,\n",
    "        \"X_test\": state_X_test,\n",
    "        \"y_train\": state_y_train,\n",
    "        \"y_test\": state_y_test,\n",
    "        \"y_pred\": state_y_pred,\n",
    "        \"model\": state_model,\n",
    "    }"
   ]
  },
  {
   "cell_type": "code",
   "execution_count": null,
   "id": "0142d061-6885-4f91-aca1-7bc686e1d3ba",
   "metadata": {
    "execution": {
     "iopub.execute_input": "2024-01-11T11:53:37.825695Z",
     "iopub.status.busy": "2024-01-11T11:53:37.824693Z",
     "iopub.status.idle": "2024-01-11T11:53:40.902950Z",
     "shell.execute_reply": "2024-01-11T11:53:40.900933Z",
     "shell.execute_reply.started": "2024-01-11T11:53:37.825695Z"
    }
   },
   "outputs": [],
   "source": [
    "for state in states_of_interest:\n",
    "    plot_train_test_prediction_series(\n",
    "        states_models.get(state)[\"y_train\"].set_index(\"date\"),\n",
    "        states_models.get(state)[\"y_test\"].set_index(\"date\"),\n",
    "        states_models.get(state)[\"y_pred\"],\n",
    "        state,\n",
    "    )"
   ]
  },
  {
   "cell_type": "markdown",
   "id": "5fff63e3-b459-470e-ae88-cfa9f57ff621",
   "metadata": {},
   "source": [
    "# Performance Analysis\n"
   ]
  },
  {
   "cell_type": "code",
   "execution_count": null,
   "id": "ec8cc46d-37cd-4bb1-b0af-0ce9596df0a1",
   "metadata": {},
   "outputs": [],
   "source": [
    "def residual_sum_of_errors(y_true, y_pred):\n",
    "    residuals = y_true - y_pred\n",
    "    rse = np.sum(residuals**2)\n",
    "    return rse"
   ]
  },
  {
   "cell_type": "code",
   "execution_count": null,
   "id": "cedb9135-23b8-49e3-a87c-90a1906b1d52",
   "metadata": {},
   "outputs": [],
   "source": [
    "def root_mean_squared_error(y_true, y_pred):\n",
    "    rmse = np.sqrt(mean_squared_error(y_true, y_pred))\n",
    "    return rmse"
   ]
  },
  {
   "cell_type": "code",
   "execution_count": null,
   "id": "47242346-58f6-498a-8285-725fa5e577d5",
   "metadata": {},
   "outputs": [],
   "source": [
    "def evaluate(state_name):\n",
    "    \"\"\"\n",
    "    Evaluate the performance of a regression model for a given state.\n",
    "    Parameters:\n",
    "    state_name (str): The name of the state for which the model evaluation is to be performed.\n",
    "    Returns:\n",
    "    dict: A dictionary containing the evaluation metrics for the model, including:\n",
    "        - \"State\": The name of the state.\n",
    "        - \"Explained Variance\": The explained variance score of the model.\n",
    "        - \"Mean Absolute Error\": The mean absolute error of the model.\n",
    "        - \"Mean Squared Error\": The mean squared error of the model.\n",
    "        - \"R^2 Score\": The R^2 score of the model.\n",
    "        - \"Residual Sum of Errors\": The residual sum of errors of the model.\n",
    "        - \"Root Mean Squared Error\": The root mean squared error of the model.\n",
    "    \"\"\"\n",
    "    y_true = states_models.get(state_name)[\"y_test\"].drop(columns=[\"date\"]).values\n",
    "    y_pred = states_models.get(state_name)[\"y_pred\"]\n",
    "\n",
    "    metrics = {\n",
    "        \"State\": state_name,\n",
    "        \"Explained Variance\": explained_variance_score(y_true, y_pred),\n",
    "        \"Mean Absolute Error\": mean_absolute_error(y_true, y_pred),\n",
    "        \"Mean Squared Error\": mean_squared_error(y_true, y_pred),\n",
    "        \"R^2 Score\": r2_score(y_true, y_pred),\n",
    "        \"Residual Sum of Errors\": residual_sum_of_errors(y_true, y_pred),\n",
    "        \"Root Mean Squared Error\": root_mean_squared_error(y_true, y_pred),\n",
    "    }\n",
    "\n",
    "    return metrics"
   ]
  },
  {
   "cell_type": "code",
   "execution_count": null,
   "id": "b9d87cc9-108e-4c9c-9c0e-0ae637ba444a",
   "metadata": {},
   "outputs": [],
   "source": [
    "state_metrics_list = []\n",
    "\n",
    "for state_name in states_of_interest:\n",
    "    metrics = evaluate(state_name)\n",
    "    state_metrics_list.append(metrics)"
   ]
  },
  {
   "cell_type": "code",
   "execution_count": null,
   "id": "69e5a5a3-1480-43a8-ac44-7752713c82bb",
   "metadata": {},
   "outputs": [],
   "source": [
    "# Convert the list of dictionaries to a DataFrame\n",
    "metrics_df = pd.DataFrame(state_metrics_list)"
   ]
  },
  {
   "cell_type": "code",
   "execution_count": null,
   "id": "24d7ca70-9151-4ac5-b9f0-3d9dd2e12af3",
   "metadata": {},
   "outputs": [],
   "source": [
    "metrics_df"
   ]
  },
  {
   "cell_type": "code",
   "execution_count": null,
   "id": "8e6a2c09-3590-41ab-be1a-51b417af3848",
   "metadata": {},
   "outputs": [],
   "source": [
    "metrics_df.shape"
   ]
  },
  {
   "cell_type": "code",
   "execution_count": null,
   "id": "839cb87a-cf3b-4521-ba43-dcd423e8d483",
   "metadata": {},
   "outputs": [],
   "source": [
    "print(metrics_df.to_latex(index=False, float_format=\"{:.1f}\".format))"
   ]
  },
  {
   "cell_type": "markdown",
   "id": "10d0723c-d35f-4728-b1ed-766c5c4d4b27",
   "metadata": {},
   "source": [
    "# Feature Importance\n"
   ]
  },
  {
   "cell_type": "code",
   "execution_count": null,
   "id": "7758f5c6-7183-4511-a350-b937f67e66fa",
   "metadata": {},
   "outputs": [],
   "source": []
  }
 ],
 "metadata": {
  "kernelspec": {
   "display_name": "data-analysis",
   "language": "python",
   "name": "data-analysis"
  },
  "language_info": {
   "codemirror_mode": {
    "name": "ipython",
    "version": 3
   },
   "file_extension": ".py",
   "mimetype": "text/x-python",
   "name": "python",
   "nbconvert_exporter": "python",
   "pygments_lexer": "ipython3",
   "version": "3.12.0"
  }
 },
 "nbformat": 4,
 "nbformat_minor": 5
}
