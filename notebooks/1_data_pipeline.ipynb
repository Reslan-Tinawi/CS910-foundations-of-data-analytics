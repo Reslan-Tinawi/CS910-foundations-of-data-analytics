{
 "cells": [
  {
   "cell_type": "markdown",
   "id": "c458b481",
   "metadata": {},
   "source": [
    "# Import packages:\n"
   ]
  },
  {
   "cell_type": "code",
   "execution_count": null,
   "id": "e077acc9",
   "metadata": {},
   "outputs": [],
   "source": [
    "import geopandas as gpd\n",
    "import numpy as np\n",
    "import pandas as pd"
   ]
  },
  {
   "cell_type": "markdown",
   "id": "61a81001",
   "metadata": {},
   "source": [
    "### Load time series data from different sets\n"
   ]
  },
  {
   "cell_type": "code",
   "execution_count": null,
   "id": "3ff02987",
   "metadata": {},
   "outputs": [],
   "source": [
    "train_df = pd.read_csv(\"../data/train_timeseries/train_timeseries.csv\")\n",
    "test_df = pd.read_csv(\"../data/test_timeseries/test_timeseries.csv\")\n",
    "val_df = pd.read_csv(\"../data/validation_timeseries/validation_timeseries.csv\")"
   ]
  },
  {
   "cell_type": "markdown",
   "id": "f96e3ba4",
   "metadata": {},
   "source": [
    "### Concatenate datasets\n"
   ]
  },
  {
   "cell_type": "code",
   "execution_count": null,
   "id": "d0b02eb7",
   "metadata": {},
   "outputs": [],
   "source": [
    "data = pd.concat([train_df, test_df, val_df])"
   ]
  },
  {
   "cell_type": "markdown",
   "id": "9f0bd8c2",
   "metadata": {},
   "source": [
    "### Process date column\n"
   ]
  },
  {
   "cell_type": "code",
   "execution_count": null,
   "id": "f00f4f14",
   "metadata": {},
   "outputs": [],
   "source": [
    "data[\"date\"] = pd.to_datetime(data[\"date\"])"
   ]
  },
  {
   "cell_type": "markdown",
   "id": "9078f36f",
   "metadata": {},
   "source": [
    "### Standardize FIPS code\n"
   ]
  },
  {
   "cell_type": "code",
   "execution_count": null,
   "id": "71bfb9cc",
   "metadata": {},
   "outputs": [],
   "source": [
    "data[\"fips\"] = data[\"fips\"].astype(\"string[pyarrow]\").str.zfill(5)"
   ]
  },
  {
   "cell_type": "markdown",
   "id": "52f51397",
   "metadata": {},
   "source": [
    "### Rename score column to drought\n"
   ]
  },
  {
   "cell_type": "code",
   "execution_count": null,
   "id": "1ef44f38",
   "metadata": {},
   "outputs": [],
   "source": [
    "data = data.rename(columns={\"score\": \"drought\"})"
   ]
  },
  {
   "cell_type": "markdown",
   "id": "a6021673",
   "metadata": {},
   "source": [
    "### Load US states shapefile data for geospatial mapping\n"
   ]
  },
  {
   "cell_type": "code",
   "execution_count": null,
   "id": "92f898e8",
   "metadata": {},
   "outputs": [],
   "source": [
    "us_states = gpd.read_file(\"../data/maps/cb_2022_us_state_500k.zip\")"
   ]
  },
  {
   "cell_type": "markdown",
   "id": "3af9799e",
   "metadata": {},
   "source": [
    "### Add state names to the data by merging with state shapefile data\n"
   ]
  },
  {
   "cell_type": "code",
   "execution_count": null,
   "id": "0252a541",
   "metadata": {},
   "outputs": [],
   "source": [
    "data = (\n",
    "    data.assign(state_fip=data[\"fips\"].str[:2])\n",
    "    .drop(columns=[\"fips\"])\n",
    "    .merge(\n",
    "        right=us_states[[\"STATEFP\", \"NAME\"]],\n",
    "        left_on=\"state_fip\",\n",
    "        right_on=\"STATEFP\",\n",
    "        how=\"inner\",\n",
    "    )\n",
    "    .drop(columns=[\"state_fip\", \"STATEFP\"])\n",
    "    .rename(columns={\"NAME\": \"state_name\"})\n",
    ")"
   ]
  },
  {
   "cell_type": "markdown",
   "id": "ab248ac7",
   "metadata": {},
   "source": [
    "### Spatio-temporal aggregation to create average monthly metrics by state\n"
   ]
  },
  {
   "cell_type": "code",
   "execution_count": null,
   "id": "d4e1d0c1",
   "metadata": {},
   "outputs": [],
   "source": [
    "aggregated_data = data.groupby(by=\"state_name\").resample(rule=\"M\", on=\"date\").mean()"
   ]
  },
  {
   "cell_type": "markdown",
   "id": "ee668b57",
   "metadata": {},
   "source": [
    "### Save aggregated data to Parquet\n"
   ]
  },
  {
   "cell_type": "code",
   "execution_count": null,
   "id": "42290853",
   "metadata": {},
   "outputs": [],
   "source": [
    "aggregated_data.to_parquet(\"../data/aggregated_data.parquet\")"
   ]
  }
 ],
 "metadata": {
  "language_info": {
   "name": "python"
  }
 },
 "nbformat": 4,
 "nbformat_minor": 5
}
